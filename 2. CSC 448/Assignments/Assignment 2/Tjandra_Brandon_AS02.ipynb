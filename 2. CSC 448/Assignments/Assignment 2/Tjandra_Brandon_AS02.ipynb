{
 "cells": [
  {
   "cell_type": "code",
   "execution_count": 32,
   "metadata": {},
   "outputs": [],
   "source": [
    "from math import sqrt\n",
    "import pandas as pd\n",
    "import heapq"
   ]
  },
  {
   "cell_type": "markdown",
   "metadata": {},
   "source": [
    "# Question 1"
   ]
  },
  {
   "cell_type": "code",
   "execution_count": 33,
   "metadata": {},
   "outputs": [],
   "source": [
    "# Load in the Romania Map dataset \n",
    "file_path = './RomaniaMap.xlsx'\n",
    "romania_map_data = pd.read_excel(file_path, sheet_name=None)"
   ]
  },
  {
   "cell_type": "code",
   "execution_count": 34,
   "metadata": {},
   "outputs": [],
   "source": [
    "# Gets the node & edges data from the excel sheet \n",
    "nodes_df = romania_map_data['Nodes']\n",
    "edges_df = romania_map_data['Edges']\n",
    "\n",
    "# Extracts the coordinates & city names for each node\n",
    "city_positions = {row['City']: (row['Lat (N)'], row['Long (E)']) for _, row in nodes_df.iterrows()}"
   ]
  },
  {
   "cell_type": "code",
   "execution_count": 35,
   "metadata": {},
   "outputs": [],
   "source": [
    "# Heuristic Function to get the straight line distance\n",
    "def heuristic(city1, city2):\n",
    "    lat1, long1 = city_positions[city1]\n",
    "    lat2, long2 = city_positions[city2]\n",
    "\n",
    "    return sqrt((lat1 - lat2) ** 2 + (long1 - long2) ** 2)"
   ]
  },
  {
   "cell_type": "code",
   "execution_count": 36,
   "metadata": {},
   "outputs": [],
   "source": [
    "# Main A* search algorithm to find the shortest path between 2 nodes/points\n",
    "def astar_search(graph, start, goal):\n",
    "    # Priority queue to store the cities to explore sorting them based on the lowest f = g + h score\n",
    "    open_list = []\n",
    "    heapq.heappush(open_list, (0, start))\n",
    "\n",
    "    # Dictionary to keep track of the city that led to each city\n",
    "    came_from = {start: None}\n",
    "\n",
    "    # Stores the exact cost from the start to each city\n",
    "    g_score =  {start: 0}\n",
    "\n",
    "    while open_list:\n",
    "        _, current_city =  heapq.heappop(open_list)\n",
    "\n",
    "        if current_city == goal:\n",
    "            path = []\n",
    "\n",
    "            while current_city is not None:\n",
    "                path.append(current_city)\n",
    "                current_city = came_from[current_city]\n",
    "\n",
    "            return path[::-1], g_score[goal]\n",
    "\n",
    "        # If the current city = goal city, reconstruct the path by tracing back from goal to the start using the came_from dictionary and return both the path & total distance\n",
    "        for neighbor, distance in graph[current_city]:\n",
    "            tentative_g = g_score[current_city] + distance\n",
    "\n",
    "            if neighbor not in g_score or tentative_g < g_score[neighbor]:\n",
    "                g_score[neighbor] = tentative_g\n",
    "                f_score = tentative_g + heuristic(neighbor, goal)\n",
    "\n",
    "                heapq.heappush(open_list, (f_score, neighbor))\n",
    "                came_from[neighbor] = current_city\n",
    "    \n",
    "    return None, float('inf')"
   ]
  },
  {
   "cell_type": "markdown",
   "metadata": {},
   "source": [
    "# Question 2"
   ]
  },
  {
   "cell_type": "code",
   "execution_count": 37,
   "metadata": {},
   "outputs": [],
   "source": [
    "# Graph Representation using edges\n",
    "graph = {}\n",
    "\n",
    "for _, row in edges_df.iterrows():\n",
    "    city_a, city_b, distance = row['Name(A)'], row['Name(B)'], row['Distance']\n",
    "    graph.setdefault(city_a, []).append((city_b, distance))\n",
    "    graph.setdefault(city_b, []).append((city_a, distance))"
   ]
  },
  {
   "cell_type": "code",
   "execution_count": 38,
   "metadata": {},
   "outputs": [
    {
     "name": "stdout",
     "output_type": "stream",
     "text": [
      "The shortest path from Timisora to Bucharest is 333.05485600000003 miles\n"
     ]
    }
   ],
   "source": [
    "start_city = \"Timisoara\"\n",
    "goal_city = \"Bucharest\"\n",
    "\n",
    "conversion_rate = 0.621371\n",
    "shortest_path, total_distance = astar_search(graph, start_city, goal_city)\n",
    "total_distnace_in_miles = total_distance * conversion_rate\n",
    "\n",
    "print(f\"The shortest path from Timisora to Bucharest is {total_distnace_in_miles} miles\")"
   ]
  },
  {
   "cell_type": "markdown",
   "metadata": {},
   "source": [
    "# Dicussion"
   ]
  }
 ],
 "metadata": {
  "kernelspec": {
   "display_name": "Python 3",
   "language": "python",
   "name": "python3"
  },
  "language_info": {
   "codemirror_mode": {
    "name": "ipython",
    "version": 3
   },
   "file_extension": ".py",
   "mimetype": "text/x-python",
   "name": "python",
   "nbconvert_exporter": "python",
   "pygments_lexer": "ipython3",
   "version": "3.12.5"
  }
 },
 "nbformat": 4,
 "nbformat_minor": 2
}
